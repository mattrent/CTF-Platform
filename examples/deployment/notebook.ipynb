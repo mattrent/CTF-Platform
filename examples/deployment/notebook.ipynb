{
    "cells": [
        {
            "cell_type": "markdown",
            "metadata": {},
            "source": [
                "## Endpoint execution\n",
                "\n",
                "This Jupyter Notebook simplifies interaction with the key endpoints of the Capture The Flag platform, offering a user-friendly environment to test and utilize its functionalities. It bridges the gap between backend mechanics and practical applications, making it a valuable resource for developers and enthusiasts."
            ]
        },
        {
            "cell_type": "markdown",
            "metadata": {},
            "source": [
                "### Initial imports and configurations"
            ]
        },
        {
            "cell_type": "code",
            "execution_count": null,
            "metadata": {},
            "outputs": [],
            "source": [
                "import shutil\n",
                "import requests\n",
                "import urllib3\n",
                "\n",
                "s = requests.session()\n",
                "\n",
                "# Needed locally only\n",
                "urllib3.disable_warnings(urllib3.exceptions.InsecureRequestWarning)\n",
                "s.verify = False\n",
                "\n",
                "# Mandatory configuration\n",
                "keycloak_host = \"https://ctf.jacopomauro.com/keycloak\"\n",
                "deployer_host = \"https://deployer.ctf.jacopomauro.com\"\n",
                "\n",
                "# Paths to the challenge files\n",
                "src_folder_location = \"../challenge-ssh/src/\"\n",
                "solution_folder_location = \"../challenge-ssh/solution/\"\n",
                "challenge_yaml_location = \"../challenge-ssh/challenge.yml\"\n",
                "\n",
                "# Login credentials\n",
                "username = \"\"\n",
                "password = \"\""
            ]
        },
        {
            "cell_type": "markdown",
            "metadata": {},
            "source": [
                "### Get access token\n",
                "Access token is valid for 5 minutes"
            ]
        },
        {
            "cell_type": "code",
            "execution_count": null,
            "metadata": {},
            "outputs": [],
            "source": [
                "r = s.post(\n",
                "    f\"{keycloak_host}/realms/ctf/protocol/openid-connect/token/\", \n",
                "    data={\n",
                "        \"client_id\":\"deployer\", \n",
                "        \"username\": username, \n",
                "        \"password\": password, \n",
                "        \"grant_type\": \"password\", \n",
                "        \"scope\": \"openid\"\n",
                "    }, \n",
                "    timeout=20\n",
                ")\n",
                "print(\"login:\", r.status_code, r.content)\n",
                "r.raise_for_status()\n",
                "\n",
                "s.headers = {\"Authorization\": \"Bearer \" + r.json().get(\"access_token\")}"
            ]
        },
        {
            "cell_type": "markdown",
            "metadata": {},
            "source": [
                "### Post challenge to deployer service"
            ]
        },
        {
            "cell_type": "code",
            "execution_count": null,
            "metadata": {},
            "outputs": [],
            "source": [
                "shutil.make_archive(\"challenge\", \"zip\", src_folder_location)\n",
                "shutil.make_archive(\"solution\", \"zip\", solution_folder_location)\n",
                "\n",
                "r = s.post(\n",
                "    deployer_host + \"/challenges\", \n",
                "    files=[\n",
                "        (\"upload[]\", open(\"challenge.zip\", \"rb\")),\n",
                "        (\"upload[]\", open(challenge_yaml_location, \"rb\")),\n",
                "        (\"upload[]\", open(\"solution.zip\", \"rb\"))\n",
                "    ], \n",
                "    timeout=20\n",
                ")\n",
                "print(\"add challenge:\", r.status_code, r.content)\n",
                "r.raise_for_status()\n",
                "\n",
                "challenge_id = r.json().get(\"challengeid\")"
            ]
        },
        {
            "cell_type": "markdown",
            "metadata": {},
            "source": [
                "### Submit challenge to CTFd"
            ]
        },
        {
            "cell_type": "code",
            "execution_count": null,
            "metadata": {},
            "outputs": [],
            "source": [
                "r = s.post(deployer_host + \"/challenges/\" + challenge_id + \"/publish\", timeout=20)\n",
                "print(\"publish:\", r.status_code, r.content)"
            ]
        },
        {
            "cell_type": "markdown",
            "metadata": {},
            "source": [
                "### Start the Challenge using the API"
            ]
        },
        {
            "cell_type": "code",
            "execution_count": null,
            "metadata": {},
            "outputs": [],
            "source": [
                "r = s.post(deployer_host + \"/challenges/\" + challenge_id + \"/start\", timeout=20)\n",
                "print(\"start challenge:\", r.status_code, r.content)\n",
                "r.raise_for_status()"
            ]
        },
        {
            "cell_type": "markdown",
            "metadata": {},
            "source": [
                "### Start Test using the API"
            ]
        },
        {
            "cell_type": "code",
            "execution_count": null,
            "metadata": {},
            "outputs": [],
            "source": [
                "r = s.post(deployer_host + f\"/solutions/{challenge_id}/start\", timeout=20)\n",
                "print(\"start test:\", r.status_code, r.content)\n",
                "r.raise_for_status()"
            ]
        },
        {
            "cell_type": "markdown",
            "metadata": {},
            "source": [
                "### Verify flag for a Challenge"
            ]
        },
        {
            "cell_type": "code",
            "execution_count": null,
            "metadata": {},
            "outputs": [],
            "source": [
                "data = {\n",
                "    \"flag\": \"flag{ssh-example}\"\n",
                "}\n",
                "\n",
                "r = s.post(deployer_host + f\"/challenges/{challenge_id}/verify\", timeout=20, json=data)\n",
                "print(\"Test flag:\", r.status_code, r.content)\n",
                "r.raise_for_status()"
            ]
        },
        {
            "cell_type": "markdown",
            "metadata": {},
            "source": [
                "### Stop the Challenge using the API"
            ]
        },
        {
            "cell_type": "code",
            "execution_count": null,
            "metadata": {},
            "outputs": [],
            "source": [
                "r = s.post(deployer_host + \"/challenges/\" + challenge_id + \"/stop\", timeout=20)\n",
                "print(\"stop challenge:\", r.status_code, r.content)\n",
                "r.raise_for_status()"
            ]
        },
        {
            "cell_type": "markdown",
            "metadata": {},
            "source": [
                "### Stop the Test using the API"
            ]
        },
        {
            "cell_type": "code",
            "execution_count": null,
            "metadata": {},
            "outputs": [],
            "source": [
                "r = s.post(deployer_host + \"/solutions/\" + challenge_id + \"/stop\", timeout=20)\n",
                "print(\"stop test:\", r.status_code, r.content)\n",
                "r.raise_for_status()"
            ]
        },
        {
            "cell_type": "markdown",
            "metadata": {},
            "source": [
                "### Get Logs (not very beneficial)"
            ]
        },
        {
            "cell_type": "code",
            "execution_count": null,
            "metadata": {},
            "outputs": [],
            "source": [
                "r = s.get(deployer_host + \"/challenges/\" + challenge_id + \"/logs\", timeout=20)\n",
                "print(\"logs:\", r.status_code, r.content)\n",
                "r.raise_for_status()"
            ]
        },
        {
            "cell_type": "markdown",
            "metadata": {},
            "source": [
                "### Check Challenge Status\n",
                "```json\n",
                "{\"ready\":\"\",\"secondsleft\":\"\",\"started\":\"\",\"url\":\"\",\"verified\":\"\"}\n",
                "```"
            ]
        },
        {
            "cell_type": "code",
            "execution_count": null,
            "metadata": {},
            "outputs": [],
            "source": [
                "r = s.get(deployer_host + \"/challenges/\" + challenge_id + \"/status\", timeout=20)\n",
                "print(\"logs:\", r.status_code, r.content)\n",
                "r.raise_for_status()"
            ]
        },
        {
            "cell_type": "markdown",
            "metadata": {},
            "source": [
                "### SSH command\n",
                "\n",
                "The following SSH command demonstrates how to connect to a CTF Challenge using SSH, leveraging the Bastion as a jump proxy while enabling port forwarding from the container to your local machine. This method allows access to a wider range of ports beyond those directly exposed by the platform itself.\n",
                "\n",
                "```bash\n",
                "ssh <username>@ssh.<subdomain> -p 8022 -J bastion@ctf.jacopomauro.com:443 -L <local-port>:<service:port>\n",
                "sshpass -p 'password' ssh -o StrictHostKeyChecking=accept-new -p 8022 <user>@ssh.challenge-<subdomain> -J bastion@ctf.jacopomauro.com:443 -L <local-port>:<service:port> -N -f\n",
                "```"
            ]
        }
    ],
    "metadata": {
        "kernelspec": {
            "display_name": "Python 3",
            "language": "python",
            "name": "python3"
        },
        "language_info": {
            "codemirror_mode": {
                "name": "ipython",
                "version": 3
            },
            "file_extension": ".py",
            "mimetype": "text/x-python",
            "name": "python",
            "nbconvert_exporter": "python",
            "pygments_lexer": "ipython3",
            "version": "3.10.12"
        }
    },
    "nbformat": 4,
    "nbformat_minor": 2
}